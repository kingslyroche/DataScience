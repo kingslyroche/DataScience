{
  "nbformat": 4,
  "nbformat_minor": 0,
  "metadata": {
    "colab": {
      "name": "mnist",
      "version": "0.3.2",
      "provenance": [],
      "include_colab_link": true
    },
    "kernelspec": {
      "name": "python3",
      "display_name": "Python 3"
    },
    "accelerator": "GPU"
  },
  "cells": [
    {
      "cell_type": "markdown",
      "metadata": {
        "id": "view-in-github",
        "colab_type": "text"
      },
      "source": [
        "<a href=\"https://colab.research.google.com/github/kingslyroche/notebooks/blob/master/mnist.ipynb\" target=\"_parent\"><img src=\"https://colab.research.google.com/assets/colab-badge.svg\" alt=\"Open In Colab\"/></a>"
      ]
    },
    {
      "metadata": {
        "id": "b5wdnFSq29FI",
        "colab_type": "code",
        "colab": {}
      },
      "cell_type": "code",
      "source": [
        "import keras\n",
        "from keras.datasets import mnist\n",
        "from keras.models import Sequential\n",
        "from keras.layers import Dense, Dropout, Flatten\n",
        "from keras.layers import Conv2D, MaxPooling2D"
      ],
      "execution_count": 0,
      "outputs": []
    },
    {
      "metadata": {
        "id": "UCBfl_ob41Ch",
        "colab_type": "code",
        "colab": {}
      },
      "cell_type": "code",
      "source": [
        "# input image dimensions\n",
        "img_rows, img_cols = 28, 28"
      ],
      "execution_count": 0,
      "outputs": []
    },
    {
      "metadata": {
        "id": "Olk_cdnc43fy",
        "colab_type": "code",
        "colab": {}
      },
      "cell_type": "code",
      "source": [
        "batch_size = 128\n",
        "num_classes = 10\n",
        "epochs = 12"
      ],
      "execution_count": 0,
      "outputs": []
    },
    {
      "metadata": {
        "id": "_mimvXgx45uw",
        "colab_type": "code",
        "colab": {}
      },
      "cell_type": "code",
      "source": [
        "# the data, split between train and test sets\n",
        "(x_train, y_train), (x_test, y_test) = mnist.load_data()"
      ],
      "execution_count": 0,
      "outputs": []
    },
    {
      "metadata": {
        "id": "FFKoXWQd5l6k",
        "colab_type": "code",
        "colab": {}
      },
      "cell_type": "code",
      "source": [
        "x_train = x_train.reshape(x_train.shape[0], img_rows, img_cols,1)\n",
        "x_test = x_test.reshape(x_test.shape[0], img_rows, img_cols, 1)\n",
        "input_shape = (img_rows, img_cols, 1)\n"
      ],
      "execution_count": 0,
      "outputs": []
    },
    {
      "metadata": {
        "id": "6uTFMipQ6oFd",
        "colab_type": "code",
        "colab": {}
      },
      "cell_type": "code",
      "source": [
        "# convert class vectors to binary class matrices\n",
        "y_train = keras.utils.to_categorical(y_train, num_classes)\n",
        "y_test = keras.utils.to_categorical(y_test, num_classes)"
      ],
      "execution_count": 0,
      "outputs": []
    },
    {
      "metadata": {
        "id": "wjIZSgjX5IN1",
        "colab_type": "code",
        "colab": {
          "base_uri": "https://localhost:8080/",
          "height": 451
        },
        "outputId": "9ca63cd5-76e1-4c38-fb93-11accebfb46b"
      },
      "cell_type": "code",
      "source": [
        "# define model as Sequential\n",
        "model = Sequential()\n",
        "\n",
        "# first convolutional layer with 32 filters\n",
        "model.add(Conv2D(32, kernel_size=(3, 3), activation='relu', input_shape=(28, 28, 1)))\n",
        "\n",
        "# add a second 2D convolutional layer with 64 filters\n",
        "model.add(Conv2D(64,kernel_size=(3, 3), activation='relu'))\n",
        "\n",
        "# reduce dimensionality through max pooling\n",
        "model.add(MaxPooling2D(pool_size=(2,2)))\n",
        "\n",
        "# third convolutional layer with 64 filters\n",
        "model.add(Conv2D(64, kernel_size=(3, 3), activation='relu'))\n",
        "# add dropout to prevent over fitting\n",
        "model.add(Dropout(0.25))\n",
        "# necessary flatten step preceeding dense layer\n",
        "model.add(Flatten())\n",
        "# fully connected layer\n",
        "model.add(Dense(128, activation='relu'))\n",
        "\n",
        "# add additional dropout to prevent overfitting\n",
        "model.add(Dropout(0.5))\n",
        "\n",
        "# prediction layers\n",
        "model.add(Dense(num_classes, activation='sigmoid', name='preds'))\n",
        "\n",
        "# show model summary\n",
        "model.summary()"
      ],
      "execution_count": 31,
      "outputs": [
        {
          "output_type": "stream",
          "text": [
            "_________________________________________________________________\n",
            "Layer (type)                 Output Shape              Param #   \n",
            "=================================================================\n",
            "conv2d_10 (Conv2D)           (None, 26, 26, 32)        320       \n",
            "_________________________________________________________________\n",
            "conv2d_11 (Conv2D)           (None, 24, 24, 64)        18496     \n",
            "_________________________________________________________________\n",
            "max_pooling2d_4 (MaxPooling2 (None, 12, 12, 64)        0         \n",
            "_________________________________________________________________\n",
            "conv2d_12 (Conv2D)           (None, 10, 10, 64)        36928     \n",
            "_________________________________________________________________\n",
            "dropout_7 (Dropout)          (None, 10, 10, 64)        0         \n",
            "_________________________________________________________________\n",
            "flatten_4 (Flatten)          (None, 6400)              0         \n",
            "_________________________________________________________________\n",
            "dense_4 (Dense)              (None, 128)               819328    \n",
            "_________________________________________________________________\n",
            "dropout_8 (Dropout)          (None, 128)               0         \n",
            "_________________________________________________________________\n",
            "preds (Dense)                (None, 10)                1290      \n",
            "=================================================================\n",
            "Total params: 876,362\n",
            "Trainable params: 876,362\n",
            "Non-trainable params: 0\n",
            "_________________________________________________________________\n"
          ],
          "name": "stdout"
        }
      ]
    },
    {
      "metadata": {
        "id": "ejoOK9L25-lk",
        "colab_type": "code",
        "colab": {}
      },
      "cell_type": "code",
      "source": [
        "model.compile(loss=keras.losses.categorical_crossentropy,\n",
        "              optimizer=keras.optimizers.SGD(lr=0.001),\n",
        "              metrics=['accuracy'])"
      ],
      "execution_count": 0,
      "outputs": []
    },
    {
      "metadata": {
        "id": "e8N8ZY2Y6UFb",
        "colab_type": "code",
        "colab": {
          "base_uri": "https://localhost:8080/",
          "height": 468
        },
        "outputId": "9c41f057-4877-41a2-fc04-5ed67637b4ba"
      },
      "cell_type": "code",
      "source": [
        "model.fit(x_train, y_train,\n",
        "          batch_size=batch_size,\n",
        "          epochs=epochs,\n",
        "          verbose=1,\n",
        "          validation_data=(x_test, y_test))"
      ],
      "execution_count": 33,
      "outputs": [
        {
          "output_type": "stream",
          "text": [
            "Train on 60000 samples, validate on 10000 samples\n",
            "Epoch 1/12\n",
            "60000/60000 [==============================] - 9s 154us/step - loss: 2.0522 - acc: 0.3243 - val_loss: 1.1863 - val_acc: 0.7689\n",
            "Epoch 2/12\n",
            "60000/60000 [==============================] - 9s 146us/step - loss: 1.1884 - acc: 0.6576 - val_loss: 0.4285 - val_acc: 0.9164\n",
            "Epoch 3/12\n",
            "60000/60000 [==============================] - 9s 146us/step - loss: 0.7676 - acc: 0.7936 - val_loss: 0.2169 - val_acc: 0.9489\n",
            "Epoch 4/12\n",
            "60000/60000 [==============================] - 9s 146us/step - loss: 0.5471 - acc: 0.8547 - val_loss: 0.1424 - val_acc: 0.9587\n",
            "Epoch 5/12\n",
            "60000/60000 [==============================] - 9s 146us/step - loss: 0.4213 - acc: 0.8880 - val_loss: 0.1081 - val_acc: 0.9676\n",
            "Epoch 6/12\n",
            "60000/60000 [==============================] - 9s 146us/step - loss: 0.3534 - acc: 0.9052 - val_loss: 0.0949 - val_acc: 0.9709\n",
            "Epoch 7/12\n",
            "60000/60000 [==============================] - 9s 146us/step - loss: 0.3011 - acc: 0.9191 - val_loss: 0.0814 - val_acc: 0.9736\n",
            "Epoch 8/12\n",
            "60000/60000 [==============================] - 9s 146us/step - loss: 0.2640 - acc: 0.9296 - val_loss: 0.0761 - val_acc: 0.9771\n",
            "Epoch 9/12\n",
            "60000/60000 [==============================] - 9s 146us/step - loss: 0.2409 - acc: 0.9365 - val_loss: 0.0751 - val_acc: 0.9768\n",
            "Epoch 10/12\n",
            "60000/60000 [==============================] - 9s 145us/step - loss: 1.8719 - acc: 0.2729 - val_loss: 2.3026 - val_acc: 0.0980\n",
            "Epoch 11/12\n",
            "60000/60000 [==============================] - 9s 145us/step - loss: 2.3026 - acc: 0.0987 - val_loss: 2.3026 - val_acc: 0.0980\n",
            "Epoch 12/12\n",
            "60000/60000 [==============================] - 9s 146us/step - loss: 2.3026 - acc: 0.0987 - val_loss: 2.3026 - val_acc: 0.0980\n"
          ],
          "name": "stdout"
        },
        {
          "output_type": "execute_result",
          "data": {
            "text/plain": [
              "<keras.callbacks.History at 0x7f25c45759b0>"
            ]
          },
          "metadata": {
            "tags": []
          },
          "execution_count": 33
        }
      ]
    },
    {
      "metadata": {
        "id": "qcGoh9dN6avf",
        "colab_type": "code",
        "colab": {
          "base_uri": "https://localhost:8080/",
          "height": 69
        },
        "outputId": "11b9a359-4781-47bc-af73-8843bf9f6be4"
      },
      "cell_type": "code",
      "source": [
        "score = model.evaluate(x_test, y_test, verbose=1)\n",
        "print('Test loss:', score[0])\n",
        "print('Test accuracy:', score[1])"
      ],
      "execution_count": 34,
      "outputs": [
        {
          "output_type": "stream",
          "text": [
            "10000/10000 [==============================] - 1s 96us/step\n",
            "Test loss: 2.3025851249694824\n",
            "Test accuracy: 0.098\n"
          ],
          "name": "stdout"
        }
      ]
    },
    {
      "metadata": {
        "id": "My-VHZAB72SI",
        "colab_type": "code",
        "colab": {}
      },
      "cell_type": "code",
      "source": [
        "\n"
      ],
      "execution_count": 0,
      "outputs": []
    },
    {
      "metadata": {
        "id": "L4SYFJUkGvA5",
        "colab_type": "code",
        "colab": {}
      },
      "cell_type": "code",
      "source": [
        ""
      ],
      "execution_count": 0,
      "outputs": []
    }
  ]
}